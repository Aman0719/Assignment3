{
 "cells": [
  {
   "cell_type": "code",
   "execution_count": null,
   "id": "a45bbe00-0f28-46f2-ad92-aced5a001888",
   "metadata": {},
   "outputs": [],
   "source": [
    "#Q1. Explain with an example each when to use a for loop and a while loop.\n",
    "\n",
    "Ans- In programming, loops are used to repeat a block of code and there are basically two types of loop in Python programming language namely\n",
    "1. for, and\n",
    "2. while\n",
    "\n",
    "The choice between using a for loop and a while loop depends on the specific requirements of the task at hand.\n",
    "\n",
    "for loop:-\n",
    "The for loop is used when we want to run a loop for specific number of times in the program.\n",
    "\n",
    "for Example:-\n",
    "# A for loop to print numbers from 1 to 10\n",
    "\n",
    "for i in range(1, 11):\n",
    "    print(i)\n",
    "\n",
    "In this case, we know exactly how many times we want to repeat the loop (10 times).\n",
    "The range() function provides a convenient way to generate the sequence of numbers we want to loop over.\n",
    "\n",
    "\n",
    "while loop:-\n",
    "The while loop is used when we want to run a loop till the time condition gets true or untill a certain condition is met.\n",
    "\n",
    "for example:-\n",
    "#Program to Check how many times a given number can be divided by 3 before it is less than or equal to 10.\n",
    "\n",
    "Number = int(input(\"Enter the Number\"))\n",
    "Counter=0\n",
    "\n",
    "while Number >10:\n",
    "    Number=Number/3\n",
    "    Counter=Counter+1\n",
    "\n",
    "print(Counter) \n",
    "\n",
    "In this case, we do not know exactlly for how many times, the loop needed to be repeated.\n",
    "Hence we used a condition that \"Less than or equal to 10\".\n",
    "so the loop will continue till the time condition evaluates 'true' and will stop if condition evaluates 'false'.\n",
    "\n",
    "So from above it is very clear that if we know for how many times loop needed to be repeated in advance, we use for loop other wise we use while loop."
   ]
  },
  {
   "cell_type": "code",
   "execution_count": 3,
   "id": "8ef0555a-31be-4a22-9b48-657cd35d949d",
   "metadata": {},
   "outputs": [
    {
     "name": "stdout",
     "output_type": "stream",
     "text": [
      "Sum of first 10 natural numbers (using for loop): 55\n",
      "Product of first 10 natural numbers (using for loop): 3628800\n",
      "Sum of first 10 natural numbers (using while loop): 55\n",
      "Product of first 10 natural numbers (using while loop): 3628800\n"
     ]
    }
   ],
   "source": [
    "#Q2. Write a python program to print the sum and product of the first 10 natural numbers using for and while loop.\n",
    "\n",
    "#Ans- \n",
    "\n",
    "# Using a for loop\n",
    "Sum_of_numbers = 0\n",
    "Product_of_numbers = 1\n",
    "for i in range(1, 11):\n",
    "    Sum_of_numbers = Sum_of_numbers + i\n",
    "    Product_of_numbers = Product_of_numbers*i\n",
    "\n",
    "print(\"Sum of first 10 natural numbers (using for loop):\", Sum_of_numbers)\n",
    "print(\"Product of first 10 natural numbers (using for loop):\", Product_of_numbers)\n",
    "\n",
    "# Using a while loop\n",
    "Sum_of_numbers = 0\n",
    "Product_of_numbers = 1\n",
    "count = 1\n",
    "while count <= 10:\n",
    "    Sum_of_numbers = Sum_of_numbers + count\n",
    "    Product_of_numbers =Product_of_numbers * count\n",
    "    count += 1\n",
    "\n",
    "print(\"Sum of first 10 natural numbers (using while loop):\", Sum_of_numbers)\n",
    "print(\"Product of first 10 natural numbers (using while loop):\", Product_of_numbers)\n"
   ]
  },
  {
   "cell_type": "code",
   "execution_count": 4,
   "id": "94b87457-ad67-49ca-a9ee-cab66e7e1b96",
   "metadata": {},
   "outputs": [
    {
     "name": "stdin",
     "output_type": "stream",
     "text": [
      "Enter number of units consumed:  310\n"
     ]
    },
    {
     "name": "stdout",
     "output_type": "stream",
     "text": [
      "Electricity bill: Rs. 2250\n"
     ]
    }
   ],
   "source": [
    "#Q3. Create a python program to compute the electricity bill for a household.\n",
    "\n",
    "#Ans- \n",
    "\n",
    "def electricity_bill(units):\n",
    "    if units <= 100:\n",
    "        bill = units * 4.50\n",
    "    elif units <= 200:\n",
    "        bill = 450 + ((units-100) * 6)\n",
    "    elif units <= 300:\n",
    "        bill = 1050 + ((units-200) * 10)\n",
    "    else:\n",
    "        bill = 2050 + ((units-300) * 20)\n",
    "    return bill\n",
    "\n",
    "units = int(input(\"Enter number of units consumed: \"))\n",
    "bill = electricity_bill(units)\n",
    "print(\"Electricity bill: Rs.\", bill)"
   ]
  },
  {
   "cell_type": "code",
   "execution_count": 5,
   "id": "152c5bf5-b030-4717-bcaa-4cde6fe2f6f6",
   "metadata": {},
   "outputs": [
    {
     "name": "stdout",
     "output_type": "stream",
     "text": [
      "Numbers whose cube is divisible by 4 or 5 (using for loop): [2, 4, 5, 6, 8, 10, 12, 14, 15, 16, 18, 20, 22, 24, 25, 26, 28, 30, 32, 34, 35, 36, 38, 40, 42, 44, 45, 46, 48, 50, 52, 54, 55, 56, 58, 60, 62, 64, 65, 66, 68, 70, 72, 74, 75, 76, 78, 80, 82, 84, 85, 86, 88, 90, 92, 94, 95, 96, 98, 100]\n"
     ]
    }
   ],
   "source": [
    "#Q4. Create a list of numbers from 1 to 100. Use for loop and while loop to calculate the cube of each number and if the cube of that number is divisible by 4 or 5 then append that number in a list and printthat list.\n",
    "\n",
    "#Ans-\n",
    "\n",
    "# Using for loop\n",
    "cubes_for = []\n",
    "for i in range(1, 101):\n",
    "    cube = i**3\n",
    "    if (cube % 4 == 0) or (cube % 5 == 0):\n",
    "        cubes_for.append(i)\n",
    "print(\"Numbers whose cube is divisible by 4 or 5 (using for loop):\", cubes_for)\n"
   ]
  },
  {
   "cell_type": "code",
   "execution_count": 6,
   "id": "3ac1fe04-1181-4e7a-b60a-217f266d412a",
   "metadata": {},
   "outputs": [
    {
     "name": "stdout",
     "output_type": "stream",
     "text": [
      "Numbers whose cube is divisible by 4 or 5 (using while loop): [2, 4, 5, 6, 8, 10, 12, 14, 15, 16, 18, 20, 22, 24, 25, 26, 28, 30, 32, 34, 35, 36, 38, 40, 42, 44, 45, 46, 48, 50, 52, 54, 55, 56, 58, 60, 62, 64, 65, 66, 68, 70, 72, 74, 75, 76, 78, 80, 82, 84, 85, 86, 88, 90, 92, 94, 95, 96, 98, 100]\n"
     ]
    }
   ],
   "source": [
    "# Using while loop\n",
    "cubes_while = []\n",
    "i = 1\n",
    "while i <= 100:\n",
    "    cube = i**3\n",
    "    if (cube % 4 == 0) or (cube % 5 == 0):\n",
    "        cubes_while.append(i)\n",
    "    i += 1\n",
    "print(\"Numbers whose cube is divisible by 4 or 5 (using while loop):\", cubes_while)"
   ]
  },
  {
   "cell_type": "code",
   "execution_count": 1,
   "id": "11fd48c5-7132-4be9-acbb-5d72d6501d14",
   "metadata": {},
   "outputs": [
    {
     "name": "stdout",
     "output_type": "stream",
     "text": [
      "Number of vowels in the string: 12\n"
     ]
    }
   ],
   "source": [
    "#Q5. Write a program to filter count vowels in the below-given string. string = \"I want to become a data scientist\"\n",
    "\n",
    "#Ans- \n",
    "\n",
    "string = \"I want to become a data scientist\"\n",
    "vowels = \"aeiouAEIOU\"\n",
    "vowel_count = 0\n",
    "for i in string:\n",
    "    if i in vowels:\n",
    "        vowel_count = vowel_count + 1\n",
    "print(\"Number of vowels in the string:\", vowel_count)"
   ]
  },
  {
   "cell_type": "code",
   "execution_count": null,
   "id": "f23e0ae3-ab28-4c4c-8a6a-f9048097a74e",
   "metadata": {},
   "outputs": [],
   "source": []
  }
 ],
 "metadata": {
  "kernelspec": {
   "display_name": "Python 3 (ipykernel)",
   "language": "python",
   "name": "python3"
  },
  "language_info": {
   "codemirror_mode": {
    "name": "ipython",
    "version": 3
   },
   "file_extension": ".py",
   "mimetype": "text/x-python",
   "name": "python",
   "nbconvert_exporter": "python",
   "pygments_lexer": "ipython3",
   "version": "3.10.8"
  }
 },
 "nbformat": 4,
 "nbformat_minor": 5
}
